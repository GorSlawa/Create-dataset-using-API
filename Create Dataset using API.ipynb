{
  "nbformat": 4,
  "nbformat_minor": 0,
  "metadata": {
    "kernelspec": {
      "display_name": "Python 3",
      "language": "python",
      "name": "python3"
    },
    "language_info": {
      "codemirror_mode": {
        "name": "ipython",
        "version": 3
      },
      "file_extension": ".py",
      "mimetype": "text/x-python",
      "name": "python",
      "nbconvert_exporter": "python",
      "pygments_lexer": "ipython3",
      "version": "3.7.4"
    },
    "colab": {
      "name": "Create Dataset using API.ipynb",
      "provenance": []
    }
  },
  "cells": [
    {
      "cell_type": "markdown",
      "metadata": {
        "id": "r77ilWCfho77"
      },
      "source": [
        "# Create Dataset using API\n",
        "\n",
        "In this notebook, we'll go across the steps to access a website's information using its API.\n",
        "\n",
        "We'll use the Twitch API provided by Free Code Camp https://wind-bow.glitch.me/, which makes the API use very easy and simple, to access a list of channels and its information. \n"
      ]
    },
    {
      "cell_type": "markdown",
      "metadata": {
        "id": "J_1Luyxaho8A"
      },
      "source": [
        "## Import Libraries\n",
        "We will use three major libraries for this project. Numpy which makes array handling very efficient and quick, Pandas to handle the datsets, and requests to get the data from an API"
      ]
    },
    {
      "cell_type": "code",
      "metadata": {
        "id": "mdVBsHKTho8D"
      },
      "source": [
        "# Import necessary libraries\n",
        "import pandas as pd\n",
        "import requests\n",
        "import json"
      ],
      "execution_count": null,
      "outputs": []
    },
    {
      "cell_type": "markdown",
      "metadata": {
        "id": "5i51dQ6gho8E"
      },
      "source": [
        "## Understand the API\n",
        "Let's first understand what data is available through the API. We understand this with the help of freecodecamp channel."
      ]
    },
    {
      "cell_type": "code",
      "metadata": {
        "id": "7RmhEX30ho8F",
        "outputId": "8c29ab32-5c21-4b82-e749-1722223d9b24"
      },
      "source": [
        "url = \"https://wind-bow.glitch.me/twitch-api/channels/freecodecamp\"\n",
        "JSONContent = requests.get(url).json()\n",
        "content = json.dumps(JSONContent, indent = 4,sort_keys=True)\n",
        "print(content)"
      ],
      "execution_count": null,
      "outputs": [
        {
          "output_type": "stream",
          "text": [
            "{\n",
            "    \"_id\": 79776140,\n",
            "    \"_links\": {\n",
            "        \"chat\": \"https://api.twitch.tv/kraken/chat/freecodecamp\",\n",
            "        \"commercial\": \"https://api.twitch.tv/kraken/channels/freecodecamp/commercial\",\n",
            "        \"editors\": \"https://api.twitch.tv/kraken/channels/freecodecamp/editors\",\n",
            "        \"follows\": \"https://api.twitch.tv/kraken/channels/freecodecamp/follows\",\n",
            "        \"self\": \"https://api.twitch.tv/kraken/channels/freecodecamp\",\n",
            "        \"stream_key\": \"https://api.twitch.tv/kraken/channels/freecodecamp/stream_key\",\n",
            "        \"subscriptions\": \"https://api.twitch.tv/kraken/channels/freecodecamp/subscriptions\",\n",
            "        \"teams\": \"https://api.twitch.tv/kraken/channels/freecodecamp/teams\",\n",
            "        \"videos\": \"https://api.twitch.tv/kraken/channels/freecodecamp/videos\"\n",
            "    },\n",
            "    \"background\": null,\n",
            "    \"banner\": null,\n",
            "    \"broadcaster_language\": \"en\",\n",
            "    \"created_at\": \"2015-01-14T03:36:47Z\",\n",
            "    \"delay\": null,\n",
            "    \"display_name\": \"FreeCodeCamp\",\n",
            "    \"followers\": 10122,\n",
            "    \"game\": \"Creative\",\n",
            "    \"language\": \"en\",\n",
            "    \"logo\": \"https://static-cdn.jtvnw.net/jtv_user_pictures/freecodecamp-profile_image-d9514f2df0962329-300x300.png\",\n",
            "    \"mature\": false,\n",
            "    \"name\": \"freecodecamp\",\n",
            "    \"partner\": false,\n",
            "    \"profile_banner\": \"https://static-cdn.jtvnw.net/jtv_user_pictures/freecodecamp-profile_banner-6f5e3445ff474aec-480.png\",\n",
            "    \"profile_banner_background_color\": null,\n",
            "    \"status\": \"Greg working on Electron-Vue boilerplate w/ Akira #programming #vuejs #electron\",\n",
            "    \"updated_at\": \"2016-10-10T22:02:01Z\",\n",
            "    \"url\": \"https://www.twitch.tv/freecodecamp\",\n",
            "    \"video_banner\": \"https://static-cdn.jtvnw.net/jtv_user_pictures/freecodecamp-channel_offline_image-b8e133c78cd51cb0-1920x1080.png\",\n",
            "    \"views\": 163747\n",
            "}\n"
          ],
          "name": "stdout"
        }
      ]
    },
    {
      "cell_type": "markdown",
      "metadata": {
        "id": "4Ifvhpfbho8I"
      },
      "source": [
        "We can see we have a lot of useful information here. We can use '_id', display_name', 'status', 'followers', and 'views' and compile this data together in a dataset."
      ]
    },
    {
      "cell_type": "markdown",
      "metadata": {
        "id": "r_P2x-qbho8J"
      },
      "source": [
        "## Create the dataset"
      ]
    },
    {
      "cell_type": "code",
      "metadata": {
        "id": "lwIHAMVdho8K"
      },
      "source": [
        "# List of channels we want to access\n",
        "channels = [\"ESL_SC2\", \"OgamingSC2\", \"cretetion\", \"freecodecamp\", \"storbeck\", \"habathcx\", \"RobotCaleb\", \"noobs2ninjas\",\n",
        "            \"ninja\", \"shroud\", \"Dakotaz\", \"esltv_cs\", \"pokimane\", \"tsm_bjergsen\", \"boxbox\", \"wtcn\", \"a_seagull\",\n",
        "           \"kinggothalion\", \"amazhs\", \"jahrein\", \"thenadeshot\", \"sivhd\", \"kingrichard\"]\n",
        "\n",
        "channels_list = []\n",
        "# For each channel, we access its information through its API\n",
        "for channel in channels:\n",
        "    JSONContent = requests.get(\"https://wind-bow.glitch.me/twitch-api/channels/\" + channel).json()\n",
        "    if 'error' not in JSONContent:\n",
        "        channels_list.append([JSONContent['_id'], JSONContent['display_name'], JSONContent['status'],\n",
        "                             JSONContent['followers'], JSONContent['views']])"
      ],
      "execution_count": null,
      "outputs": []
    },
    {
      "cell_type": "markdown",
      "metadata": {
        "id": "0R8-xazJho8L"
      },
      "source": [
        "We have all the information inside a list and now we can create a dataset out of it."
      ]
    },
    {
      "cell_type": "code",
      "metadata": {
        "id": "eYctAH25ho8M",
        "outputId": "ec037b18-40f3-496d-ef74-9e7208fa5892"
      },
      "source": [
        "dataset = pd.DataFrame(channels_list)\n",
        "dataset.sample(5)"
      ],
      "execution_count": null,
      "outputs": [
        {
          "output_type": "execute_result",
          "data": {
            "text/html": [
              "<div>\n",
              "<style scoped>\n",
              "    .dataframe tbody tr th:only-of-type {\n",
              "        vertical-align: middle;\n",
              "    }\n",
              "\n",
              "    .dataframe tbody tr th {\n",
              "        vertical-align: top;\n",
              "    }\n",
              "\n",
              "    .dataframe thead th {\n",
              "        text-align: right;\n",
              "    }\n",
              "</style>\n",
              "<table border=\"1\" class=\"dataframe\">\n",
              "  <thead>\n",
              "    <tr style=\"text-align: right;\">\n",
              "      <th></th>\n",
              "      <th>0</th>\n",
              "      <th>1</th>\n",
              "      <th>2</th>\n",
              "      <th>3</th>\n",
              "      <th>4</th>\n",
              "    </tr>\n",
              "  </thead>\n",
              "  <tbody>\n",
              "    <tr>\n",
              "      <th>1</th>\n",
              "      <td>71852806</td>\n",
              "      <td>OgamingSC2</td>\n",
              "      <td>UnderDogs - Rediffusion - Qualifier.</td>\n",
              "      <td>40895</td>\n",
              "      <td>20694507</td>\n",
              "    </tr>\n",
              "    <tr>\n",
              "      <th>2</th>\n",
              "      <td>90401618</td>\n",
              "      <td>cretetion</td>\n",
              "      <td>It's a Divison kind of Day</td>\n",
              "      <td>908</td>\n",
              "      <td>11631</td>\n",
              "    </tr>\n",
              "    <tr>\n",
              "      <th>3</th>\n",
              "      <td>79776140</td>\n",
              "      <td>FreeCodeCamp</td>\n",
              "      <td>Greg working on Electron-Vue boilerplate w/ Ak...</td>\n",
              "      <td>10122</td>\n",
              "      <td>163747</td>\n",
              "    </tr>\n",
              "    <tr>\n",
              "      <th>6</th>\n",
              "      <td>54925078</td>\n",
              "      <td>RobotCaleb</td>\n",
              "      <td>Code wrangling</td>\n",
              "      <td>20</td>\n",
              "      <td>4602</td>\n",
              "    </tr>\n",
              "    <tr>\n",
              "      <th>4</th>\n",
              "      <td>86238744</td>\n",
              "      <td>storbeck</td>\n",
              "      <td>None</td>\n",
              "      <td>10</td>\n",
              "      <td>1019</td>\n",
              "    </tr>\n",
              "  </tbody>\n",
              "</table>\n",
              "</div>"
            ],
            "text/plain": [
              "          0             1                                                  2  \\\n",
              "1  71852806    OgamingSC2               UnderDogs - Rediffusion - Qualifier.   \n",
              "2  90401618     cretetion                         It's a Divison kind of Day   \n",
              "3  79776140  FreeCodeCamp  Greg working on Electron-Vue boilerplate w/ Ak...   \n",
              "6  54925078    RobotCaleb                                     Code wrangling   \n",
              "4  86238744      storbeck                                               None   \n",
              "\n",
              "       3         4  \n",
              "1  40895  20694507  \n",
              "2    908     11631  \n",
              "3  10122    163747  \n",
              "6     20      4602  \n",
              "4     10      1019  "
            ]
          },
          "metadata": {
            "tags": []
          },
          "execution_count": 4
        }
      ]
    },
    {
      "cell_type": "markdown",
      "metadata": {
        "id": "vEkmt8M4ho8O"
      },
      "source": [
        "Our dataset is ready but we can see a couple of problems here. Firstly, the headings are not representative of the data the column contains and secondly, there may be places which are empty."
      ]
    },
    {
      "cell_type": "code",
      "metadata": {
        "id": "nkx3b2Xnho8Q",
        "outputId": "5250379e-1267-44cf-de08-c8d08078ee0b"
      },
      "source": [
        "dataset.columns = ['Id', 'Name', 'Status', 'Followers', 'Views']\n",
        "dataset.dropna(axis = 0, how = 'any', inplace = True)\n",
        "dataset.index = pd.RangeIndex(len(dataset.index))\n",
        "dataset"
      ],
      "execution_count": null,
      "outputs": [
        {
          "output_type": "execute_result",
          "data": {
            "text/html": [
              "<div>\n",
              "<style scoped>\n",
              "    .dataframe tbody tr th:only-of-type {\n",
              "        vertical-align: middle;\n",
              "    }\n",
              "\n",
              "    .dataframe tbody tr th {\n",
              "        vertical-align: top;\n",
              "    }\n",
              "\n",
              "    .dataframe thead th {\n",
              "        text-align: right;\n",
              "    }\n",
              "</style>\n",
              "<table border=\"1\" class=\"dataframe\">\n",
              "  <thead>\n",
              "    <tr style=\"text-align: right;\">\n",
              "      <th></th>\n",
              "      <th>Id</th>\n",
              "      <th>Name</th>\n",
              "      <th>Status</th>\n",
              "      <th>Followers</th>\n",
              "      <th>Views</th>\n",
              "    </tr>\n",
              "  </thead>\n",
              "  <tbody>\n",
              "    <tr>\n",
              "      <th>0</th>\n",
              "      <td>30220059</td>\n",
              "      <td>ESL_SC2</td>\n",
              "      <td>RERUN: StarCraft 2 - Terminator vs. Parting (P...</td>\n",
              "      <td>135394</td>\n",
              "      <td>60991791</td>\n",
              "    </tr>\n",
              "    <tr>\n",
              "      <th>1</th>\n",
              "      <td>71852806</td>\n",
              "      <td>OgamingSC2</td>\n",
              "      <td>UnderDogs - Rediffusion - Qualifier.</td>\n",
              "      <td>40895</td>\n",
              "      <td>20694507</td>\n",
              "    </tr>\n",
              "    <tr>\n",
              "      <th>2</th>\n",
              "      <td>90401618</td>\n",
              "      <td>cretetion</td>\n",
              "      <td>It's a Divison kind of Day</td>\n",
              "      <td>908</td>\n",
              "      <td>11631</td>\n",
              "    </tr>\n",
              "    <tr>\n",
              "      <th>3</th>\n",
              "      <td>79776140</td>\n",
              "      <td>FreeCodeCamp</td>\n",
              "      <td>Greg working on Electron-Vue boilerplate w/ Ak...</td>\n",
              "      <td>10122</td>\n",
              "      <td>163747</td>\n",
              "    </tr>\n",
              "    <tr>\n",
              "      <th>4</th>\n",
              "      <td>6726509</td>\n",
              "      <td>Habathcx</td>\n",
              "      <td>Massively Effective</td>\n",
              "      <td>14</td>\n",
              "      <td>764</td>\n",
              "    </tr>\n",
              "    <tr>\n",
              "      <th>5</th>\n",
              "      <td>54925078</td>\n",
              "      <td>RobotCaleb</td>\n",
              "      <td>Code wrangling</td>\n",
              "      <td>20</td>\n",
              "      <td>4602</td>\n",
              "    </tr>\n",
              "    <tr>\n",
              "      <th>6</th>\n",
              "      <td>82534701</td>\n",
              "      <td>noobs2ninjas</td>\n",
              "      <td>Building a new hackintosh for #programming and...</td>\n",
              "      <td>835</td>\n",
              "      <td>48102</td>\n",
              "    </tr>\n",
              "  </tbody>\n",
              "</table>\n",
              "</div>"
            ],
            "text/plain": [
              "         Id          Name                                             Status  \\\n",
              "0  30220059       ESL_SC2  RERUN: StarCraft 2 - Terminator vs. Parting (P...   \n",
              "1  71852806    OgamingSC2               UnderDogs - Rediffusion - Qualifier.   \n",
              "2  90401618     cretetion                         It's a Divison kind of Day   \n",
              "3  79776140  FreeCodeCamp  Greg working on Electron-Vue boilerplate w/ Ak...   \n",
              "4   6726509      Habathcx                                Massively Effective   \n",
              "5  54925078    RobotCaleb                                     Code wrangling   \n",
              "6  82534701  noobs2ninjas  Building a new hackintosh for #programming and...   \n",
              "\n",
              "   Followers     Views  \n",
              "0     135394  60991791  \n",
              "1      40895  20694507  \n",
              "2        908     11631  \n",
              "3      10122    163747  \n",
              "4         14       764  \n",
              "5         20      4602  \n",
              "6        835     48102  "
            ]
          },
          "metadata": {
            "tags": []
          },
          "execution_count": 5
        }
      ]
    },
    {
      "cell_type": "markdown",
      "metadata": {
        "id": "Coe-9qiIho8S"
      },
      "source": [
        "## Export the dataset\n",
        "Our complete dataset is now ready to be exported into a .csv file"
      ]
    },
    {
      "cell_type": "code",
      "metadata": {
        "id": "rpTuay6mho8S"
      },
      "source": [
        "dataset.to_csv(\"Dataset.csv\", index = False)"
      ],
      "execution_count": null,
      "outputs": []
    },
    {
      "cell_type": "markdown",
      "metadata": {
        "id": "Bu1T6TxZho8S"
      },
      "source": [
        "Finally, our dataset is now ready and is available as the file 'Dataset.csv'. We can use similar procedure to access information from any site that provides the option to access its information through its API."
      ]
    }
  ]
}